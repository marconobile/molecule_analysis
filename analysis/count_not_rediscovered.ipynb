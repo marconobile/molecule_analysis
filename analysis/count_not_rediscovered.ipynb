{
 "cells": [
  {
   "cell_type": "markdown",
   "metadata": {},
   "source": [
    "# Counts how many mols that have been rediscovered by technique are in the intersection between the train data and the ref df"
   ]
  },
  {
   "cell_type": "code",
   "execution_count": 23,
   "metadata": {},
   "outputs": [],
   "source": [
    "%reload_ext autoreload\n",
    "%autoreload 2"
   ]
  },
  {
   "cell_type": "code",
   "execution_count": 24,
   "metadata": {},
   "outputs": [],
   "source": [
    "import os\n",
    "import pandas as pd\n",
    "from rdkit import Chem\n",
    "from pathlib import Path\n",
    "\n",
    "try:\n",
    "    from utils.data_utils import smi2mols, are_mols_equal\n",
    "except:\n",
    "    import sys\n",
    "    sys.path.append(\"..\")\n",
    "    from utils.data_utils import smi2mols, are_mols_equal\n"
   ]
  },
  {
   "cell_type": "code",
   "execution_count": 25,
   "metadata": {},
   "outputs": [],
   "source": [
    "# aae technique matches in maybridge\n",
    "p = \"/home/nobilm@usi.ch/wd/data/exact_matches_txts/asinex/no_dup_vae_all_valid_vs_no_dup_asinex_03_Feb_2022_valid.txt\"\n",
    "p = Path(p)\n",
    "with open(p) as file:\n",
    "    lines = [line.rstrip() for line in file]"
   ]
  },
  {
   "cell_type": "code",
   "execution_count": 26,
   "metadata": {},
   "outputs": [],
   "source": [
    "exact_matches_smi = []\n",
    "for s in lines:\n",
    "    start_smi = s.find(\":\")+1\n",
    "    end_smi = s.find(\",\")\n",
    "    exact_matches_smi.append(s[start_smi:end_smi].strip())    "
   ]
  },
  {
   "cell_type": "code",
   "execution_count": 27,
   "metadata": {},
   "outputs": [],
   "source": [
    "intersection_between_moses_vs_ref = []"
   ]
  },
  {
   "cell_type": "code",
   "execution_count": 28,
   "metadata": {},
   "outputs": [],
   "source": [
    "# # mols in maybridge and also in train\n",
    "# p = Path(\"/home/nobilm@usi.ch/wd/data/synthesized_datasets/maybridge/maybridge_vs_moses_train_duplicates.txt\")\n",
    "# with open(p) as file:\n",
    "#     lines = [line.rstrip() for line in file]\n",
    "\n",
    "# for s in lines:\n",
    "#     start_smi = s.find(\":\")+1\n",
    "#     end_smi = s.find(\"  \")\n",
    "#     intersection_between_moses_vs_ref.append(s[start_smi:end_smi].strip())    "
   ]
  },
  {
   "cell_type": "code",
   "execution_count": 29,
   "metadata": {},
   "outputs": [],
   "source": [
    "p = Path(\"/home/nobilm@usi.ch/wd/data/synthesized_datasets/asinex/asinex_vs_moses_train_duplicates.txt\")\n",
    "with open(p) as file:\n",
    "    lines = [line.rstrip() for line in file]"
   ]
  },
  {
   "cell_type": "code",
   "execution_count": 30,
   "metadata": {},
   "outputs": [],
   "source": [
    "for s in lines:\n",
    "    start_smi = s.find(\":\")+1\n",
    "    end_smi = s.find(\",\")\n",
    "    intersection_between_moses_vs_ref.append(s[start_smi:end_smi].strip())    "
   ]
  },
  {
   "cell_type": "code",
   "execution_count": 31,
   "metadata": {},
   "outputs": [
    {
     "data": {
      "text/plain": [
       "(34628, 872)"
      ]
     },
     "execution_count": 31,
     "metadata": {},
     "output_type": "execute_result"
    }
   ],
   "source": [
    "len(intersection_between_moses_vs_ref), len(exact_matches_smi)"
   ]
  },
  {
   "cell_type": "code",
   "execution_count": 32,
   "metadata": {},
   "outputs": [],
   "source": [
    "intersection_between_moses_vs_ref = smi2mols(intersection_between_moses_vs_ref)\n",
    "exact_matches = smi2mols(exact_matches_smi)"
   ]
  },
  {
   "cell_type": "code",
   "execution_count": 33,
   "metadata": {},
   "outputs": [],
   "source": [
    "counter = 0\n",
    "for m1 in exact_matches:\n",
    "    for m2 in intersection_between_moses_vs_ref: \n",
    "        if are_mols_equal(m1, m2):\n",
    "            counter +=1"
   ]
  },
  {
   "cell_type": "code",
   "execution_count": 34,
   "metadata": {},
   "outputs": [
    {
     "data": {
      "text/plain": [
       "711"
      ]
     },
     "execution_count": 34,
     "metadata": {},
     "output_type": "execute_result"
    }
   ],
   "source": [
    "counter"
   ]
  },
  {
   "cell_type": "code",
   "execution_count": null,
   "metadata": {},
   "outputs": [],
   "source": []
  },
  {
   "cell_type": "code",
   "execution_count": null,
   "metadata": {},
   "outputs": [],
   "source": []
  },
  {
   "cell_type": "code",
   "execution_count": null,
   "metadata": {},
   "outputs": [],
   "source": []
  }
 ],
 "metadata": {
  "kernelspec": {
   "display_name": "analysis_venv",
   "language": "python",
   "name": "python3"
  },
  "language_info": {
   "codemirror_mode": {
    "name": "ipython",
    "version": 3
   },
   "file_extension": ".py",
   "mimetype": "text/x-python",
   "name": "python",
   "nbconvert_exporter": "python",
   "pygments_lexer": "ipython3",
   "version": "3.9.18"
  }
 },
 "nbformat": 4,
 "nbformat_minor": 2
}
