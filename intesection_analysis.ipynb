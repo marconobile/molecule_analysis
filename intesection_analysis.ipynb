{
 "cells": [
  {
   "cell_type": "code",
   "execution_count": 19,
   "metadata": {},
   "outputs": [],
   "source": [
    "import os\n",
    "import pandas as pd\n",
    "from rdkit import Chem"
   ]
  },
  {
   "cell_type": "code",
   "execution_count": 13,
   "metadata": {},
   "outputs": [],
   "source": [
    "path = \"/home/nobilm@usi.ch/wd/data/synthesized_datasets/maybridge/maybridge_vs_moses_train_duplicates.txt\"\n",
    "csv_path = \"/storage_common/nobilm/data_comparisons/data/generated_smiles/moses/combinatorial/combinatorial_vs_maybridge.csv\""
   ]
  },
  {
   "cell_type": "code",
   "execution_count": 9,
   "metadata": {},
   "outputs": [],
   "source": [
    "moses_smiles_in_train = set()\n",
    "with open(path) as file:\n",
    "    for i, line in enumerate(file):\n",
    "        # print(line.rstrip())        \n",
    "        # print(line[line.find(\":\")+1: line.find(\"Maybridge\")].strip())\n",
    "        moses_smiles_in_train.add(line[line.find(\":\")+1: line.find(\"Maybridge\")].strip())"
   ]
  },
  {
   "cell_type": "code",
   "execution_count": 14,
   "metadata": {},
   "outputs": [],
   "source": [
    "# for .csv generated, take the gen smiles, and compute its intersection agains the set of mols here above only from moses\n",
    "csv_df = pd.read_csv(csv_path)"
   ]
  },
  {
   "cell_type": "code",
   "execution_count": 23,
   "metadata": {},
   "outputs": [],
   "source": [
    "smiles_gen = set(csv_df[\"SMILES_combinatorial\"])"
   ]
  },
  {
   "cell_type": "code",
   "execution_count": 24,
   "metadata": {},
   "outputs": [],
   "source": [
    "mol_moses = [Chem.MolFromSmiles(smi) for smi in moses_smiles_in_train] \n",
    "mol_moses_natoms = [m.GetNumAtoms() for m in mol_moses]\n",
    "mol_moses_nbonds = [len(list(m.GetBonds())) for m in mol_moses]\n",
    "\n",
    "mol_gen = [Chem.MolFromSmiles(smi) for smi in smiles_gen]\n",
    "mol_gen_natoms = [m.GetNumAtoms() for m in smiles_gen]\n",
    "mol_gen_nbonds = [len(list(m.GetBonds())) for m in smiles_gen]"
   ]
  },
  {
   "cell_type": "code",
   "execution_count": null,
   "metadata": {},
   "outputs": [],
   "source": [
    "\n",
    "out_df  = pd.DataFrame(\n",
    "    {gen_smiles_colname: smiles_gen,\n",
    "     'NUM_ATOMS': NUM_ATOMS,\n",
    "     'NUM_BONDS': NUM_BONDS,\n",
    "     gen_weight_colname: WEIGHT_gen,\n",
    "     ref_smiles_colname: SMILES_ref,\n",
    "     ref_weight_colname: WEIGHT_ref,\n",
    "     \"tanimoto\": tanimoto\n",
    "    })\n"
   ]
  }
 ],
 "metadata": {
  "kernelspec": {
   "display_name": "analysis_venv",
   "language": "python",
   "name": "python3"
  },
  "language_info": {
   "codemirror_mode": {
    "name": "ipython",
    "version": 3
   },
   "file_extension": ".py",
   "mimetype": "text/x-python",
   "name": "python",
   "nbconvert_exporter": "python",
   "pygments_lexer": "ipython3",
   "version": "3.8.18"
  }
 },
 "nbformat": 4,
 "nbformat_minor": 2
}
