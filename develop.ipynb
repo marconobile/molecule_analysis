{
 "cells": [
  {
   "cell_type": "code",
   "execution_count": 1,
   "metadata": {},
   "outputs": [
    {
     "name": "stderr",
     "output_type": "stream",
     "text": [
      "/home/nobilm@usi.ch/miniconda3/envs/analysis_venv/lib/python3.9/site-packages/pandas/core/arrays/masked.py:60: UserWarning: Pandas requires version '1.3.6' or newer of 'bottleneck' (version '1.3.5' currently installed).\n",
      "  from pandas.core import (\n"
     ]
    }
   ],
   "source": [
    "from utils.data_utils import mols_from_file"
   ]
  },
  {
   "cell_type": "code",
   "execution_count": null,
   "metadata": {},
   "outputs": [],
   "source": [
    "# pathfile = \"./data/new_data/Maybridge_HitDiscover.sdf\" 51775\n",
    "# l1 = mols_from_file(pathfile, drop_none=True)\n",
    "# pathfile = \"./data/new_data/Maybridge_Screening_collection.sdf\" 53352\n",
    "# l2 = mols_from_file(pathfile, drop_none=True)\n",
    "# pathfile = \"data/synthesized_datasets/maybridge/Maybridge_HitDiscover.sdf\" 51775\n",
    "# l3 = mols_from_file(pathfile, drop_none=True)\n"
   ]
  },
  {
   "cell_type": "code",
   "execution_count": null,
   "metadata": {},
   "outputs": [],
   "source": [
    "# TODO take all \n",
    "# /home/nobilm@usi.ch/wd/data/generated_smiles/moses/jtn/no_dup_jtn_all_valid.smiles ALL MOSES GENERATED\n",
    "# and pass each one against \n",
    "# /home/nobilm@usi.ch/wd/data/synthesized_datasets/maybridge/no_dup_Maybridge_HitDiscover_valid.smiles ALL NEW MAYBRIDGES (V1, ...)\n",
    "\n",
    "# DO THIS SCRIpt S.T make work easly also on guacamol"
   ]
  }
 ],
 "metadata": {
  "kernelspec": {
   "display_name": "analysis_venv",
   "language": "python",
   "name": "python3"
  },
  "language_info": {
   "codemirror_mode": {
    "name": "ipython",
    "version": 3
   },
   "file_extension": ".py",
   "mimetype": "text/x-python",
   "name": "python",
   "nbconvert_exporter": "python",
   "pygments_lexer": "ipython3",
   "version": "3.9.18"
  }
 },
 "nbformat": 4,
 "nbformat_minor": 2
}
