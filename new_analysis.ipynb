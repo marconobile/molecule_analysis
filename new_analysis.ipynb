{
 "cells": [
  {
   "cell_type": "code",
   "execution_count": 14,
   "metadata": {},
   "outputs": [],
   "source": [
    "%reload_ext autoreload\n",
    "%autoreload 2"
   ]
  },
  {
   "cell_type": "code",
   "execution_count": 2,
   "metadata": {},
   "outputs": [],
   "source": [
    "import os\n",
    "import pandas as pd\n",
    "from pathlib import Path"
   ]
  },
  {
   "cell_type": "code",
   "execution_count": 4,
   "metadata": {},
   "outputs": [
    {
     "data": {
      "text/plain": [
       "34171"
      ]
     },
     "execution_count": 4,
     "metadata": {},
     "output_type": "execute_result"
    }
   ],
   "source": [
    "# Specify the folder path where the CSV files are stored\n",
    "folder_path =Path(\"/storage_common/nobilm/broken_test/\")\n",
    "\n",
    "# Get a list of all CSV files in the folder\n",
    "csv_files = [file for file in os.listdir(folder_path) if file.endswith('.csv')]\n",
    "len(csv_files)"
   ]
  },
  {
   "cell_type": "code",
   "execution_count": 5,
   "metadata": {},
   "outputs": [],
   "source": [
    "# Check if there are any CSV files in the folder\n",
    "if not csv_files:\n",
    "    print(f\"No CSV files found in {str(folder_path)}\")\n",
    "else:\n",
    "    # Initialize an empty list to store individual DataFrames\n",
    "    dfs = []\n",
    "\n",
    "    # Loop through each CSV file and read it into a DataFrame\n",
    "    for csv_file in csv_files:\n",
    "        file_path = os.path.join(folder_path, csv_file)\n",
    "        df = pd.read_csv(file_path)\n",
    "        dfs.append(df)\n",
    "\n",
    "    # Concatenate the list of DataFrames into a single DataFrame\n",
    "    concatenated_df = pd.concat(dfs, ignore_index=True)    "
   ]
  },
  {
   "cell_type": "code",
   "execution_count": 6,
   "metadata": {},
   "outputs": [
    {
     "data": {
      "text/html": [
       "<div>\n",
       "<style scoped>\n",
       "    .dataframe tbody tr th:only-of-type {\n",
       "        vertical-align: middle;\n",
       "    }\n",
       "\n",
       "    .dataframe tbody tr th {\n",
       "        vertical-align: top;\n",
       "    }\n",
       "\n",
       "    .dataframe thead th {\n",
       "        text-align: right;\n",
       "    }\n",
       "</style>\n",
       "<table border=\"1\" class=\"dataframe\">\n",
       "  <thead>\n",
       "    <tr style=\"text-align: right;\">\n",
       "      <th></th>\n",
       "      <th>Unnamed: 0</th>\n",
       "      <th>SMILES_aae</th>\n",
       "      <th>NUM_ATOMS</th>\n",
       "      <th>NUM_BONDS</th>\n",
       "      <th>WEIGHT_aae</th>\n",
       "      <th>SMILES_asinex</th>\n",
       "      <th>WEIGHT_asinex</th>\n",
       "      <th>tanimoto</th>\n",
       "    </tr>\n",
       "  </thead>\n",
       "  <tbody>\n",
       "    <tr>\n",
       "      <th>0</th>\n",
       "      <td>0</td>\n",
       "      <td>Cn1cc(C2CCCN2C(=O)c2cccc(CCC(C)(C)O)c2)cn1</td>\n",
       "      <td>25</td>\n",
       "      <td>27</td>\n",
       "      <td>341.210327</td>\n",
       "      <td>O=C1NC(=S)NC(=O)C1=Cc1ccc(N2CCOCC2)c([N+](=O)[...</td>\n",
       "      <td>362.068491</td>\n",
       "      <td>0.250394</td>\n",
       "    </tr>\n",
       "    <tr>\n",
       "      <th>1</th>\n",
       "      <td>1</td>\n",
       "      <td>Cn1cc(C2CCCN2C(=O)c2cccc(CCC(C)(C)O)c2)cn1</td>\n",
       "      <td>25</td>\n",
       "      <td>27</td>\n",
       "      <td>341.210327</td>\n",
       "      <td>O=[N+]([O-])c1ccc(N/N=C/c2ccc3c(c2)OCCO3)c([N+...</td>\n",
       "      <td>344.075684</td>\n",
       "      <td>0.220223</td>\n",
       "    </tr>\n",
       "    <tr>\n",
       "      <th>2</th>\n",
       "      <td>2</td>\n",
       "      <td>Cn1cc(C2CCCN2C(=O)c2cccc(CCC(C)(C)O)c2)cn1</td>\n",
       "      <td>25</td>\n",
       "      <td>27</td>\n",
       "      <td>341.210327</td>\n",
       "      <td>Cn1c(=O)c(-c2cc([N+](=O)[O-])ccc2N)nc2cc([N+](...</td>\n",
       "      <td>341.076018</td>\n",
       "      <td>0.283737</td>\n",
       "    </tr>\n",
       "    <tr>\n",
       "      <th>3</th>\n",
       "      <td>3</td>\n",
       "      <td>Cn1cc(C2CCCN2C(=O)c2cccc(CCC(C)(C)O)c2)cn1</td>\n",
       "      <td>25</td>\n",
       "      <td>27</td>\n",
       "      <td>341.210327</td>\n",
       "      <td>Nc1[nH]c(=O)[nH]c(=O)c1C(c1ccccc1)c1c(N)[nH]c(...</td>\n",
       "      <td>342.107653</td>\n",
       "      <td>0.222513</td>\n",
       "    </tr>\n",
       "    <tr>\n",
       "      <th>4</th>\n",
       "      <td>4</td>\n",
       "      <td>Cn1cc(C2CCCN2C(=O)c2cccc(CCC(C)(C)O)c2)cn1</td>\n",
       "      <td>25</td>\n",
       "      <td>27</td>\n",
       "      <td>341.210327</td>\n",
       "      <td>CCc1nnc(N/N=C/c2ccc(-c3ccc([N+](=O)[O-])cc3)o2...</td>\n",
       "      <td>341.123637</td>\n",
       "      <td>0.263701</td>\n",
       "    </tr>\n",
       "  </tbody>\n",
       "</table>\n",
       "</div>"
      ],
      "text/plain": [
       "   Unnamed: 0                                  SMILES_aae  NUM_ATOMS  \\\n",
       "0           0  Cn1cc(C2CCCN2C(=O)c2cccc(CCC(C)(C)O)c2)cn1         25   \n",
       "1           1  Cn1cc(C2CCCN2C(=O)c2cccc(CCC(C)(C)O)c2)cn1         25   \n",
       "2           2  Cn1cc(C2CCCN2C(=O)c2cccc(CCC(C)(C)O)c2)cn1         25   \n",
       "3           3  Cn1cc(C2CCCN2C(=O)c2cccc(CCC(C)(C)O)c2)cn1         25   \n",
       "4           4  Cn1cc(C2CCCN2C(=O)c2cccc(CCC(C)(C)O)c2)cn1         25   \n",
       "\n",
       "   NUM_BONDS  WEIGHT_aae                                      SMILES_asinex  \\\n",
       "0         27  341.210327  O=C1NC(=S)NC(=O)C1=Cc1ccc(N2CCOCC2)c([N+](=O)[...   \n",
       "1         27  341.210327  O=[N+]([O-])c1ccc(N/N=C/c2ccc3c(c2)OCCO3)c([N+...   \n",
       "2         27  341.210327  Cn1c(=O)c(-c2cc([N+](=O)[O-])ccc2N)nc2cc([N+](...   \n",
       "3         27  341.210327  Nc1[nH]c(=O)[nH]c(=O)c1C(c1ccccc1)c1c(N)[nH]c(...   \n",
       "4         27  341.210327  CCc1nnc(N/N=C/c2ccc(-c3ccc([N+](=O)[O-])cc3)o2...   \n",
       "\n",
       "   WEIGHT_asinex  tanimoto  \n",
       "0     362.068491  0.250394  \n",
       "1     344.075684  0.220223  \n",
       "2     341.076018  0.283737  \n",
       "3     342.107653  0.222513  \n",
       "4     341.123637  0.263701  "
      ]
     },
     "execution_count": 6,
     "metadata": {},
     "output_type": "execute_result"
    }
   ],
   "source": [
    "concatenated_df.head()"
   ]
  },
  {
   "cell_type": "code",
   "execution_count": 15,
   "metadata": {},
   "outputs": [
    {
     "data": {
      "image/png": "[encoded data removed]",
      "text/plain": [
       "<Figure size 640x480 with 1 Axes>"
      ]
     },
     "metadata": {},
     "output_type": "display_data"
    }
   ],
   "source": [
    "from data_utils import append_line_to_log, create_log, num_mols_over_treshold\n",
    "from rdkit import Chem\n",
    "from more_itertools import chunked\n",
    "import matplotlib.pyplot as plt\n",
    "from rdkit.Chem import Draw\n",
    "\n",
    "out_dir = \"/storage_common/nobilm\"\n",
    "log = create_log(out_dir, name=\"analysis_log_test_aae_asinex_broken.txt\")\n",
    "\n",
    "out = concatenated_df\n",
    "technique_name = \"aae\"  # os.path.split(Path(path).parent)[-1]\n",
    "\n",
    "\n",
    "# ----- Log info ----- #\n",
    "append_line_to_log(\n",
    "    log, f\"Number of generated mols considered in the analysis: {len(set(out['SMILES_'+technique_name]))}\")\n",
    "append_line_to_log(log, f\"Exact matches: {num_mols_over_treshold(out, 1.)[1]}\")\n",
    "append_line_to_log(log, f\"Average Tanimoto dist: {out['tanimoto'].mean()}\")\n",
    "t, n = num_mols_over_treshold(out, .7)\n",
    "append_line_to_log(log, f\"Mols above treshold ({t}): {n}\")\n",
    "t, n = num_mols_over_treshold(out)\n",
    "append_line_to_log(log, f\"Mols above treshold ({t}): {n}\")\n",
    "t, n = num_mols_over_treshold(out, .95)\n",
    "append_line_to_log(log, f\"Mols above treshold ({t}): {n}\")\n",
    "t, n = num_mols_over_treshold(out, .98)\n",
    "append_line_to_log(log, f\"Mols above treshold ({t}): {n}\")\n",
    "\n",
    "# ----- Tanimoto hist ----- #\n",
    "name_tanimoto_png = technique_name + '_tanimoto_hist.png'\n",
    "fig, ax = plt.subplots()\n",
    "out.hist(column=\"tanimoto\", grid=False, ax=ax)\n",
    "fig.savefig(os.path.join(out_dir, name_tanimoto_png))\n",
    "\n",
    "# ----- (sim, mol_i, mol_j) pic ----- #\n",
    "# treshold = .9\n",
    "# filter_ = out[\"tanimoto\"] >= treshold\n",
    "# filtered = out[filter_]\n",
    "# res = []\n",
    "# for _, row in filtered.iterrows():\n",
    "#     res.append({\"TD\": row[\"tanimoto\"],\n",
    "#                 \"GEN_SMI\": row[\"SMILES_\"+technique_name],\n",
    "#                 \"REF_SMI\": row[\"SMILES_maybridge\"],\n",
    "#                 \"GEN_MOL\": Chem.MolFromSmiles(row[\"SMILES_\"+technique_name]),\n",
    "#                 \"REF_MOL\": Chem.MolFromSmiles(row[\"SMILES_maybridge\"]),\n",
    "#                 })\n",
    "\n",
    "# res = sorted(res, key=lambda d: d[\"TD\"], reverse=True)\n",
    "\n",
    "# mols = []\n",
    "# smiles = []\n",
    "# for el in res:\n",
    "#     mols.append(el[\"GEN_MOL\"])\n",
    "#     mols.append(el[\"REF_MOL\"])\n",
    "#     smiles.append(\"TD: \" + str(el[\"TD\"]) + \" - \" + el[\"GEN_SMI\"])\n",
    "#     smiles.append(el[\"REF_SMI\"])\n",
    "\n",
    "# mols = list(chunked(mols, 200))\n",
    "# smiles = list(chunked(smiles, 200))\n",
    "\n",
    "# for chunk_idx in range(len(mols)):\n",
    "#     # works only with ~ 200 mols and subImgSize=(300, 300)\n",
    "#     img = Draw.MolsToGridImage(mols[chunk_idx], molsPerRow=2, subImgSize=(\n",
    "#         300, 300), legends=smiles[chunk_idx])\n",
    "#     name_mols_png = f\"{technique_name}__mols{chunk_idx}.png\"\n",
    "#     img.save(os.path.join(out_img_dir, name_mols_png))"
   ]
  },
  {
   "cell_type": "code",
   "execution_count": null,
   "metadata": {},
   "outputs": [],
   "source": []
  },
  {
   "cell_type": "code",
   "execution_count": 23,
   "metadata": {},
   "outputs": [
    {
     "ename": "KeyboardInterrupt",
     "evalue": "",
     "output_type": "error",
     "traceback": [
      "\u001b[0;31m---------------------------------------------------------------------------\u001b[0m",
      "\u001b[0;31mKeyboardInterrupt\u001b[0m                         Traceback (most recent call last)",
      "Cell \u001b[0;32mIn[23], line 15\u001b[0m\n\u001b[1;32m     11\u001b[0m gen_name \u001b[38;5;241m=\u001b[39m get_filename(gen_path\u001b[38;5;241m.\u001b[39mparent)\n\u001b[1;32m     12\u001b[0m ref_name \u001b[38;5;241m=\u001b[39m get_filename(ref_path\u001b[38;5;241m.\u001b[39mparent)\n\u001b[0;32m---> 15\u001b[0m df \u001b[38;5;241m=\u001b[39m \u001b[43mcompute_join\u001b[49m\u001b[43m(\u001b[49m\u001b[43mgen_df\u001b[49m\u001b[43m,\u001b[49m\u001b[43m \u001b[49m\u001b[43mref_df\u001b[49m\u001b[43m,\u001b[49m\u001b[43m \u001b[49m\u001b[43mgen_name\u001b[49m\u001b[43m,\u001b[49m\u001b[43m \u001b[49m\u001b[43mref_name\u001b[49m\u001b[43m)\u001b[49m\n\u001b[1;32m     16\u001b[0m df \u001b[38;5;241m=\u001b[39m dd\u001b[38;5;241m.\u001b[39mfrom_pandas(df, npartitions\u001b[38;5;241m=\u001b[39m\u001b[38;5;241m1\u001b[39m)\u001b[38;5;241m.\u001b[39mrepartition(\n\u001b[1;32m     17\u001b[0m     partition_size\u001b[38;5;241m=\u001b[39m\u001b[38;5;124m\"\u001b[39m\u001b[38;5;124m100MB\u001b[39m\u001b[38;5;124m\"\u001b[39m)\n\u001b[1;32m     18\u001b[0m \u001b[38;5;28mlen\u001b[39m(df\u001b[38;5;241m.\u001b[39mgroupby(\u001b[38;5;124mf\u001b[39m\u001b[38;5;124m\"\u001b[39m\u001b[38;5;124mSMILES_\u001b[39m\u001b[38;5;132;01m{\u001b[39;00mgen_name\u001b[38;5;132;01m}\u001b[39;00m\u001b[38;5;124m\"\u001b[39m))\n",
      "File \u001b[0;32m~/wd/data_utils.py:71\u001b[0m, in \u001b[0;36mcompute_join\u001b[0;34m(gen_df, ref_df, gen_name, ref_name, columns)\u001b[0m\n\u001b[1;32m     67\u001b[0m gen_df \u001b[38;5;241m=\u001b[39m dd\u001b[38;5;241m.\u001b[39mfrom_pandas(gen_df, npartitions\u001b[38;5;241m=\u001b[39m\u001b[38;5;241m1\u001b[39m)\u001b[38;5;241m.\u001b[39mrepartition(\n\u001b[1;32m     68\u001b[0m     partition_size\u001b[38;5;241m=\u001b[39m\u001b[38;5;124m\"\u001b[39m\u001b[38;5;124m100MB\u001b[39m\u001b[38;5;124m\"\u001b[39m)\n\u001b[1;32m     69\u001b[0m ref_df \u001b[38;5;241m=\u001b[39m dd\u001b[38;5;241m.\u001b[39mfrom_pandas(ref_df, npartitions\u001b[38;5;241m=\u001b[39m\u001b[38;5;241m1\u001b[39m)\u001b[38;5;241m.\u001b[39mrepartition(\n\u001b[1;32m     70\u001b[0m     partition_size\u001b[38;5;241m=\u001b[39m\u001b[38;5;124m\"\u001b[39m\u001b[38;5;124m100MB\u001b[39m\u001b[38;5;124m\"\u001b[39m)\n\u001b[0;32m---> 71\u001b[0m \u001b[38;5;28;01mreturn\u001b[39;00m \u001b[43mdd\u001b[49m\u001b[38;5;241;43m.\u001b[39;49m\u001b[43mmerge\u001b[49m\u001b[43m(\u001b[49m\u001b[43mgen_df\u001b[49m\u001b[43m,\u001b[49m\u001b[43m \u001b[49m\u001b[43mref_df\u001b[49m\u001b[43m,\u001b[49m\u001b[43m \u001b[49m\u001b[43mon\u001b[49m\u001b[38;5;241;43m=\u001b[39;49m\u001b[43mcolumns\u001b[49m\u001b[43m,\u001b[49m\u001b[43m \u001b[49m\u001b[43mhow\u001b[49m\u001b[38;5;241;43m=\u001b[39;49m\u001b[38;5;124;43m'\u001b[39;49m\u001b[38;5;124;43minner\u001b[39;49m\u001b[38;5;124;43m'\u001b[39;49m\u001b[43m,\u001b[49m\u001b[43m \u001b[49m\u001b[43msuffixes\u001b[49m\u001b[38;5;241;43m=\u001b[39;49m\u001b[43m(\u001b[49m\n\u001b[1;32m     72\u001b[0m \u001b[43m    \u001b[49m\u001b[38;5;124;43m\"\u001b[39;49m\u001b[38;5;124;43m_\u001b[39;49m\u001b[38;5;124;43m\"\u001b[39;49m\u001b[38;5;241;43m+\u001b[39;49m\u001b[38;5;28;43mstr\u001b[39;49m\u001b[43m(\u001b[49m\u001b[43mgen_name\u001b[49m\u001b[43m)\u001b[49m\u001b[43m,\u001b[49m\u001b[43m \u001b[49m\u001b[38;5;124;43m\"\u001b[39;49m\u001b[38;5;124;43m_\u001b[39;49m\u001b[38;5;124;43m\"\u001b[39;49m\u001b[38;5;241;43m+\u001b[39;49m\u001b[38;5;28;43mstr\u001b[39;49m\u001b[43m(\u001b[49m\u001b[43mref_name\u001b[49m\u001b[43m)\u001b[49m\u001b[43m)\u001b[49m\u001b[43m)\u001b[49m\u001b[38;5;241;43m.\u001b[39;49m\u001b[43mcompute\u001b[49m\u001b[43m(\u001b[49m\u001b[43m)\u001b[49m\n",
      "File \u001b[0;32m~/miniconda3/envs/analysis_venv/lib/python3.8/site-packages/dask/base.py:314\u001b[0m, in \u001b[0;36mDaskMethodsMixin.compute\u001b[0;34m(self, **kwargs)\u001b[0m\n\u001b[1;32m    290\u001b[0m \u001b[38;5;28;01mdef\u001b[39;00m \u001b[38;5;21mcompute\u001b[39m(\u001b[38;5;28mself\u001b[39m, \u001b[38;5;241m*\u001b[39m\u001b[38;5;241m*\u001b[39mkwargs):\n\u001b[1;32m    291\u001b[0m \u001b[38;5;250m    \u001b[39m\u001b[38;5;124;03m\"\"\"Compute this dask collection\u001b[39;00m\n\u001b[1;32m    292\u001b[0m \n\u001b[1;32m    293\u001b[0m \u001b[38;5;124;03m    This turns a lazy Dask collection into its in-memory equivalent.\u001b[39;00m\n\u001b[0;32m   (...)\u001b[0m\n\u001b[1;32m    312\u001b[0m \u001b[38;5;124;03m    dask.compute\u001b[39;00m\n\u001b[1;32m    313\u001b[0m \u001b[38;5;124;03m    \"\"\"\u001b[39;00m\n\u001b[0;32m--> 314\u001b[0m     (result,) \u001b[38;5;241m=\u001b[39m \u001b[43mcompute\u001b[49m\u001b[43m(\u001b[49m\u001b[38;5;28;43mself\u001b[39;49m\u001b[43m,\u001b[49m\u001b[43m \u001b[49m\u001b[43mtraverse\u001b[49m\u001b[38;5;241;43m=\u001b[39;49m\u001b[38;5;28;43;01mFalse\u001b[39;49;00m\u001b[43m,\u001b[49m\u001b[43m \u001b[49m\u001b[38;5;241;43m*\u001b[39;49m\u001b[38;5;241;43m*\u001b[39;49m\u001b[43mkwargs\u001b[49m\u001b[43m)\u001b[49m\n\u001b[1;32m    315\u001b[0m     \u001b[38;5;28;01mreturn\u001b[39;00m result\n",
      "File \u001b[0;32m~/miniconda3/envs/analysis_venv/lib/python3.8/site-packages/dask/base.py:599\u001b[0m, in \u001b[0;36mcompute\u001b[0;34m(traverse, optimize_graph, scheduler, get, *args, **kwargs)\u001b[0m\n\u001b[1;32m    596\u001b[0m     keys\u001b[38;5;241m.\u001b[39mappend(x\u001b[38;5;241m.\u001b[39m__dask_keys__())\n\u001b[1;32m    597\u001b[0m     postcomputes\u001b[38;5;241m.\u001b[39mappend(x\u001b[38;5;241m.\u001b[39m__dask_postcompute__())\n\u001b[0;32m--> 599\u001b[0m results \u001b[38;5;241m=\u001b[39m \u001b[43mschedule\u001b[49m\u001b[43m(\u001b[49m\u001b[43mdsk\u001b[49m\u001b[43m,\u001b[49m\u001b[43m \u001b[49m\u001b[43mkeys\u001b[49m\u001b[43m,\u001b[49m\u001b[43m \u001b[49m\u001b[38;5;241;43m*\u001b[39;49m\u001b[38;5;241;43m*\u001b[39;49m\u001b[43mkwargs\u001b[49m\u001b[43m)\u001b[49m\n\u001b[1;32m    600\u001b[0m \u001b[38;5;28;01mreturn\u001b[39;00m repack([f(r, \u001b[38;5;241m*\u001b[39ma) \u001b[38;5;28;01mfor\u001b[39;00m r, (f, a) \u001b[38;5;129;01min\u001b[39;00m \u001b[38;5;28mzip\u001b[39m(results, postcomputes)])\n",
      "File \u001b[0;32m~/miniconda3/envs/analysis_venv/lib/python3.8/site-packages/dask/threaded.py:89\u001b[0m, in \u001b[0;36mget\u001b[0;34m(dsk, keys, cache, num_workers, pool, **kwargs)\u001b[0m\n\u001b[1;32m     86\u001b[0m     \u001b[38;5;28;01melif\u001b[39;00m \u001b[38;5;28misinstance\u001b[39m(pool, multiprocessing\u001b[38;5;241m.\u001b[39mpool\u001b[38;5;241m.\u001b[39mPool):\n\u001b[1;32m     87\u001b[0m         pool \u001b[38;5;241m=\u001b[39m MultiprocessingPoolExecutor(pool)\n\u001b[0;32m---> 89\u001b[0m results \u001b[38;5;241m=\u001b[39m \u001b[43mget_async\u001b[49m\u001b[43m(\u001b[49m\n\u001b[1;32m     90\u001b[0m \u001b[43m    \u001b[49m\u001b[43mpool\u001b[49m\u001b[38;5;241;43m.\u001b[39;49m\u001b[43msubmit\u001b[49m\u001b[43m,\u001b[49m\n\u001b[1;32m     91\u001b[0m \u001b[43m    \u001b[49m\u001b[43mpool\u001b[49m\u001b[38;5;241;43m.\u001b[39;49m\u001b[43m_max_workers\u001b[49m\u001b[43m,\u001b[49m\n\u001b[1;32m     92\u001b[0m \u001b[43m    \u001b[49m\u001b[43mdsk\u001b[49m\u001b[43m,\u001b[49m\n\u001b[1;32m     93\u001b[0m \u001b[43m    \u001b[49m\u001b[43mkeys\u001b[49m\u001b[43m,\u001b[49m\n\u001b[1;32m     94\u001b[0m \u001b[43m    \u001b[49m\u001b[43mcache\u001b[49m\u001b[38;5;241;43m=\u001b[39;49m\u001b[43mcache\u001b[49m\u001b[43m,\u001b[49m\n\u001b[1;32m     95\u001b[0m \u001b[43m    \u001b[49m\u001b[43mget_id\u001b[49m\u001b[38;5;241;43m=\u001b[39;49m\u001b[43m_thread_get_id\u001b[49m\u001b[43m,\u001b[49m\n\u001b[1;32m     96\u001b[0m \u001b[43m    \u001b[49m\u001b[43mpack_exception\u001b[49m\u001b[38;5;241;43m=\u001b[39;49m\u001b[43mpack_exception\u001b[49m\u001b[43m,\u001b[49m\n\u001b[1;32m     97\u001b[0m \u001b[43m    \u001b[49m\u001b[38;5;241;43m*\u001b[39;49m\u001b[38;5;241;43m*\u001b[39;49m\u001b[43mkwargs\u001b[49m\u001b[43m,\u001b[49m\n\u001b[1;32m     98\u001b[0m \u001b[43m\u001b[49m\u001b[43m)\u001b[49m\n\u001b[1;32m    100\u001b[0m \u001b[38;5;66;03m# Cleanup pools associated to dead threads\u001b[39;00m\n\u001b[1;32m    101\u001b[0m \u001b[38;5;28;01mwith\u001b[39;00m pools_lock:\n",
      "File \u001b[0;32m~/miniconda3/envs/analysis_venv/lib/python3.8/site-packages/dask/local.py:500\u001b[0m, in \u001b[0;36mget_async\u001b[0;34m(submit, num_workers, dsk, result, cache, get_id, rerun_exceptions_locally, pack_exception, raise_exception, callbacks, dumps, loads, chunksize, **kwargs)\u001b[0m\n\u001b[1;32m    498\u001b[0m \u001b[38;5;28;01mwhile\u001b[39;00m state[\u001b[38;5;124m\"\u001b[39m\u001b[38;5;124mwaiting\u001b[39m\u001b[38;5;124m\"\u001b[39m] \u001b[38;5;129;01mor\u001b[39;00m state[\u001b[38;5;124m\"\u001b[39m\u001b[38;5;124mready\u001b[39m\u001b[38;5;124m\"\u001b[39m] \u001b[38;5;129;01mor\u001b[39;00m state[\u001b[38;5;124m\"\u001b[39m\u001b[38;5;124mrunning\u001b[39m\u001b[38;5;124m\"\u001b[39m]:\n\u001b[1;32m    499\u001b[0m     fire_tasks(chunksize)\n\u001b[0;32m--> 500\u001b[0m     \u001b[38;5;28;01mfor\u001b[39;00m key, res_info, failed \u001b[38;5;129;01min\u001b[39;00m \u001b[43mqueue_get\u001b[49m\u001b[43m(\u001b[49m\u001b[43mqueue\u001b[49m\u001b[43m)\u001b[49m\u001b[38;5;241m.\u001b[39mresult():\n\u001b[1;32m    501\u001b[0m         \u001b[38;5;28;01mif\u001b[39;00m failed:\n\u001b[1;32m    502\u001b[0m             exc, tb \u001b[38;5;241m=\u001b[39m loads(res_info)\n",
      "File \u001b[0;32m~/miniconda3/envs/analysis_venv/lib/python3.8/site-packages/dask/local.py:137\u001b[0m, in \u001b[0;36mqueue_get\u001b[0;34m(q)\u001b[0m\n\u001b[1;32m    136\u001b[0m \u001b[38;5;28;01mdef\u001b[39;00m \u001b[38;5;21mqueue_get\u001b[39m(q):\n\u001b[0;32m--> 137\u001b[0m     \u001b[38;5;28;01mreturn\u001b[39;00m \u001b[43mq\u001b[49m\u001b[38;5;241;43m.\u001b[39;49m\u001b[43mget\u001b[49m\u001b[43m(\u001b[49m\u001b[43m)\u001b[49m\n",
      "File \u001b[0;32m~/miniconda3/envs/analysis_venv/lib/python3.8/queue.py:170\u001b[0m, in \u001b[0;36mQueue.get\u001b[0;34m(self, block, timeout)\u001b[0m\n\u001b[1;32m    168\u001b[0m \u001b[38;5;28;01melif\u001b[39;00m timeout \u001b[38;5;129;01mis\u001b[39;00m \u001b[38;5;28;01mNone\u001b[39;00m:\n\u001b[1;32m    169\u001b[0m     \u001b[38;5;28;01mwhile\u001b[39;00m \u001b[38;5;129;01mnot\u001b[39;00m \u001b[38;5;28mself\u001b[39m\u001b[38;5;241m.\u001b[39m_qsize():\n\u001b[0;32m--> 170\u001b[0m         \u001b[38;5;28;43mself\u001b[39;49m\u001b[38;5;241;43m.\u001b[39;49m\u001b[43mnot_empty\u001b[49m\u001b[38;5;241;43m.\u001b[39;49m\u001b[43mwait\u001b[49m\u001b[43m(\u001b[49m\u001b[43m)\u001b[49m\n\u001b[1;32m    171\u001b[0m \u001b[38;5;28;01melif\u001b[39;00m timeout \u001b[38;5;241m<\u001b[39m \u001b[38;5;241m0\u001b[39m:\n\u001b[1;32m    172\u001b[0m     \u001b[38;5;28;01mraise\u001b[39;00m \u001b[38;5;167;01mValueError\u001b[39;00m(\u001b[38;5;124m\"\u001b[39m\u001b[38;5;124m'\u001b[39m\u001b[38;5;124mtimeout\u001b[39m\u001b[38;5;124m'\u001b[39m\u001b[38;5;124m must be a non-negative number\u001b[39m\u001b[38;5;124m\"\u001b[39m)\n",
      "File \u001b[0;32m~/miniconda3/envs/analysis_venv/lib/python3.8/threading.py:302\u001b[0m, in \u001b[0;36mCondition.wait\u001b[0;34m(self, timeout)\u001b[0m\n\u001b[1;32m    300\u001b[0m \u001b[38;5;28;01mtry\u001b[39;00m:    \u001b[38;5;66;03m# restore state no matter what (e.g., KeyboardInterrupt)\u001b[39;00m\n\u001b[1;32m    301\u001b[0m     \u001b[38;5;28;01mif\u001b[39;00m timeout \u001b[38;5;129;01mis\u001b[39;00m \u001b[38;5;28;01mNone\u001b[39;00m:\n\u001b[0;32m--> 302\u001b[0m         \u001b[43mwaiter\u001b[49m\u001b[38;5;241;43m.\u001b[39;49m\u001b[43macquire\u001b[49m\u001b[43m(\u001b[49m\u001b[43m)\u001b[49m\n\u001b[1;32m    303\u001b[0m         gotit \u001b[38;5;241m=\u001b[39m \u001b[38;5;28;01mTrue\u001b[39;00m\n\u001b[1;32m    304\u001b[0m     \u001b[38;5;28;01melse\u001b[39;00m:\n",
      "\u001b[0;31mKeyboardInterrupt\u001b[0m: "
     ]
    }
   ],
   "source": [
    "from data_utils import get_filename, compute_join\n",
    "import dask.dataframe as dd\n",
    "import numpy as np\n",
    "\n",
    "gen_path = Path(\"/home/nobilm@usi.ch/wd/data/generated_smiles/moses/aae/aae_properties.csv\")\n",
    "ref_path = Path(\"/storage_common/nobilm/data_comparisons/data/synthesized_datasets/asinex/no_dup_asinex_03_Feb_2022_valid_properties_properties.csv\")\n",
    "\n",
    "gen_df = pd.read_csv(gen_path)\n",
    "ref_df = pd.read_csv(ref_path)\n",
    "\n",
    "gen_name = get_filename(gen_path.parent)\n",
    "ref_name = get_filename(ref_path.parent)\n",
    "\n",
    "df = compute_join(gen_df, ref_df, gen_name, ref_name)\n",
    "df = dd.from_pandas(df, npartitions=1).repartition(\n",
    "    partition_size=\"100MB\")\n",
    "len(df.groupby(f\"SMILES_{gen_name}\"))"
   ]
  },
  {
   "cell_type": "code",
   "execution_count": null,
   "metadata": {},
   "outputs": [],
   "source": []
  }
 ],
 "metadata": {
  "kernelspec": {
   "display_name": "analysis_venv",
   "language": "python",
   "name": "python3"
  },
  "language_info": {
   "codemirror_mode": {
    "name": "ipython",
    "version": 3
   },
   "file_extension": ".py",
   "mimetype": "text/x-python",
   "name": "python",
   "nbconvert_exporter": "python",
   "pygments_lexer": "ipython3",
   "version": "3.8.18"
  }
 },
 "nbformat": 4,
 "nbformat_minor": 2
}
